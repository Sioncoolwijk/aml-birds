{
 "cells": [
  {
   "cell_type": "code",
   "execution_count": 1,
   "id": "41f2e125-9135-454c-9b27-4ec9db71d0f5",
   "metadata": {},
   "outputs": [],
   "source": [
    "#trained using all images, normalized to 0,1\n",
    "#differente kernel size from base model\n",
    "#both changes had a slight improvemnt over the base model"
   ]
  },
  {
   "cell_type": "code",
   "execution_count": 1,
   "id": "1bef01bc-36fc-4318-b093-1ce305c3e4d8",
   "metadata": {},
   "outputs": [],
   "source": [
    "#basic\n",
    "import numpy as np\n",
    "import os\n",
    "import pandas as pd\n",
    "import matplotlib.pyplot as plt\n",
    "\n",
    "#dataset/dataloader stuff\n",
    "import torch\n",
    "from torch.utils.data import Dataset\n",
    "from torch.utils.data import DataLoader\n",
    "from torchvision.io import read_image\n",
    "import torchvision.transforms as transforms \n",
    "from torchvision.io import ImageReadMode\n",
    "\n",
    "#network stuff\n",
    "import torch.nn as nn\n",
    "import torch.nn.functional as F\n",
    "import torch.optim as optim"
   ]
  },
  {
   "cell_type": "code",
   "execution_count": 2,
   "id": "01ccbd1e-61d9-43f3-aedb-d5cc8709d06e",
   "metadata": {},
   "outputs": [
    {
     "data": {
      "text/plain": [
       "'cuda'"
      ]
     },
     "execution_count": 2,
     "metadata": {},
     "output_type": "execute_result"
    }
   ],
   "source": [
    "#pointless now\n",
    "#datasets dont need gpus to function but usually on top\n",
    "DEVICE = 'cuda' if torch.cuda.is_available() else 'cpu'\n",
    "RANDOM_SEED = 42\n",
    "DEVICE"
   ]
  },
  {
   "cell_type": "code",
   "execution_count": 8,
   "id": "e6c0cf9e-bf5f-495b-a7b5-185217714652",
   "metadata": {},
   "outputs": [],
   "source": [
    "class LeBirbs(Dataset):\n",
    "    def __init__(self, annotations_file, img_dir, transform=None, target_transform=None):\n",
    "        self.img_labels = pd.read_csv(annotations_file)\n",
    "        self.image_dir = img_dir\n",
    "        self.transform = transform\n",
    "        self.target_transform = target_transform\n",
    "\n",
    "    def __len__(self):\n",
    "        return len(self.img_labels)\n",
    "\n",
    "    def __getitem__(self, idx):\n",
    "        normalize = transforms.Normalize(mean=[0.485, 0.456, 0.406], std=[0.229, 0.224, 0.225])\n",
    "        img_path = self.img_labels.iloc[idx]['image_path']\n",
    "        img_path = img_path[1:]\n",
    "        img_path = os.path.join(self.image_dir,img_path)\n",
    "        image = read_image(img_path, mode = ImageReadMode.RGB)\n",
    "        image = image.to(torch.float)\n",
    "        image = normalize(image)\n",
    "        label = self.img_labels.iloc[idx]['label']\n",
    "        label = torch.tensor(label)\n",
    "        \n",
    "        if self.transform:\n",
    "            transform = transforms.transforms.CenterCrop(128)\n",
    "            image = transform(image)\n",
    "        if self.target_transform:\n",
    "            label = self.target_transform(label)\n",
    "        return image, label"
   ]
  },
  {
   "cell_type": "code",
   "execution_count": 9,
   "id": "0fcadcc7-8d5f-42e9-af0e-66b2ad683475",
   "metadata": {},
   "outputs": [],
   "source": [
    "#initiate the dataset object\n",
    "train_dataset = LeBirbs('train_images.csv','train_images',True,None)\n",
    "test_dataset = LeBirbs('test_images_path.csv','test_images',True,None)\n",
    "train_dataloader = DataLoader(train_dataset,batch_size=128,shuffle=True)\n",
    "test_dataloader = DataLoader(test_dataset,batch_size=128,shuffle=False)"
   ]
  },
  {
   "cell_type": "code",
   "execution_count": 10,
   "id": "ce35890c-9404-4c9a-87d5-6c7c43d4f937",
   "metadata": {},
   "outputs": [
    {
     "data": {
      "text/plain": [
       "Net(\n",
       "  (conv1): Conv2d(3, 6, kernel_size=(5, 5), stride=(1, 1))\n",
       "  (pool): MaxPool2d(kernel_size=2, stride=2, padding=0, dilation=1, ceil_mode=False)\n",
       "  (conv2): Conv2d(6, 16, kernel_size=(5, 5), stride=(1, 1))\n",
       "  (fc1): Linear(in_features=13456, out_features=7000, bias=True)\n",
       "  (fc2): Linear(in_features=7000, out_features=1000, bias=True)\n",
       "  (fc3): Linear(in_features=1000, out_features=201, bias=True)\n",
       ")"
      ]
     },
     "execution_count": 10,
     "metadata": {},
     "output_type": "execute_result"
    }
   ],
   "source": [
    "#implementation without atributes\n",
    "class Net(nn.Module):\n",
    "    def __init__(self):\n",
    "        super().__init__()\n",
    "        self.conv1 = nn.Conv2d(3, 6, 5)\n",
    "        self.pool = nn.MaxPool2d(2, 2)\n",
    "        self.conv2 = nn.Conv2d(6, 16, 5)\n",
    "        self.fc1 = nn.Linear(13456,7000)\n",
    "        self.fc2 = nn.Linear(7000, 1000)\n",
    "        self.fc3 = nn.Linear(1000, 201)\n",
    "\n",
    "    def forward(self, x):\n",
    "        x = self.pool(F.relu(self.conv1(x)))\n",
    "        x = self.pool(F.relu(self.conv2(x)))\n",
    "        x = torch.flatten(x, 1) # flatten all dimensions except batch\n",
    "        x = F.relu(self.fc1(x))\n",
    "        x = F.relu(self.fc2(x))\n",
    "        x = self.fc3(x)\n",
    "        return x\n",
    "\n",
    "\n",
    "net = Net()\n",
    "net.to(DEVICE)"
   ]
  },
  {
   "cell_type": "code",
   "execution_count": 11,
   "id": "af64dd58-7e19-4004-9c05-e2855e8fd253",
   "metadata": {},
   "outputs": [],
   "source": [
    "criterion = nn.CrossEntropyLoss()\n",
    "optimizer = optim.SGD(net.parameters(), lr=0.001, momentum=0.9)\n",
    "num_epochs = 25"
   ]
  },
  {
   "cell_type": "code",
   "execution_count": 12,
   "id": "74f49ff6-a27b-45cc-b53d-e348e8e391a1",
   "metadata": {
    "scrolled": true
   },
   "outputs": [
    {
     "name": "stdout",
     "output_type": "stream",
     "text": [
      "0 1311.4973359107971\n",
      "1 1299.4948244094849\n",
      "2 1291.2570519447327\n",
      "3 1285.2879219055176\n",
      "4 1281.8681416511536\n",
      "5 1279.7553009986877\n",
      "6 1278.1751046180725\n",
      "7 1277.1524214744568\n",
      "8 1276.391191482544\n",
      "9 1275.5489678382874\n",
      "10 1274.5972609519958\n",
      "11 1274.4927048683167\n",
      "12 1273.5810570716858\n",
      "13 1272.896478652954\n",
      "14 1271.8993310928345\n",
      "15 1270.9317827224731\n",
      "16 1269.4513001441956\n",
      "17 1266.51953125\n",
      "18 1260.7991743087769\n",
      "19 1245.6558094024658\n",
      "20 1210.621669769287\n",
      "21 1145.4528732299805\n",
      "22 1059.5380175113678\n",
      "23 953.6598377227783\n",
      "24 859.0756077766418\n",
      "Finished Training\n",
      "CPU times: total: 9h 44min 33s\n",
      "Wall time: 1h 41min 37s\n"
     ]
    }
   ],
   "source": [
    "%%time\n",
    "for epoch in range(num_epochs):\n",
    "\n",
    "    running_loss = 0.0\n",
    "    for i, data in enumerate(train_dataloader, 0):\n",
    "        inputs, labels = data[0].to(DEVICE), data[1].to(DEVICE)\n",
    "        optimizer.zero_grad()\n",
    "        outputs = net(inputs)\n",
    "        loss = criterion(outputs, labels)\n",
    "        loss.backward()\n",
    "        optimizer.step()\n",
    "        running_loss += loss.item()\n",
    "    print(epoch,running_loss)\n",
    "\n",
    "print('Finished Training')"
   ]
  },
  {
   "cell_type": "code",
   "execution_count": null,
   "id": "a98af7c9-b09a-4346-8e05-151bc2f219d5",
   "metadata": {},
   "outputs": [],
   "source": [
    "#can save trained models, too large file size for github\n",
    "#PATH = 'Nets/DK_1_net.pth'\n",
    "#torch.save(net.state_dict(), PATH)"
   ]
  },
  {
   "cell_type": "code",
   "execution_count": 13,
   "id": "0a32764e-21f4-437e-86cc-2b91e82721df",
   "metadata": {},
   "outputs": [],
   "source": [
    "test_file = pd.read_csv('test_images_sample.csv')\n",
    "\n",
    "all_predictions = []\n",
    "with torch.no_grad():\n",
    "    for data in test_dataloader:\n",
    "        images, labels = data[0].to(DEVICE), data[1].to(DEVICE)\n",
    "        outputs = net(images)\n",
    "        _, predicted = torch.max(outputs.data, 1)\n",
    "        predictions = torch.Tensor.tolist(predicted)\n",
    "        all_predictions.extend(predictions)"
   ]
  },
  {
   "cell_type": "code",
   "execution_count": 14,
   "id": "d5d63522-41fe-4c93-abca-7d9d0fcdfc3a",
   "metadata": {},
   "outputs": [],
   "source": [
    "test_file['label'] = all_predictions\n",
    "test_file.to_csv('test_images_predictions_dk.csv',index=False)"
   ]
  },
  {
   "cell_type": "code",
   "execution_count": null,
   "id": "af9e4bdd-bf49-43a7-ae0c-06c5de7a69b2",
   "metadata": {},
   "outputs": [],
   "source": []
  }
 ],
 "metadata": {
  "kernelspec": {
   "display_name": "Python 3 (ipykernel)",
   "language": "python",
   "name": "python3"
  },
  "language_info": {
   "codemirror_mode": {
    "name": "ipython",
    "version": 3
   },
   "file_extension": ".py",
   "mimetype": "text/x-python",
   "name": "python",
   "nbconvert_exporter": "python",
   "pygments_lexer": "ipython3",
   "version": "3.11.5"
  }
 },
 "nbformat": 4,
 "nbformat_minor": 5
}
