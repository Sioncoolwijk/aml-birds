{
 "cells": [
  {
   "cell_type": "code",
   "execution_count": 1,
   "id": "1bef01bc-36fc-4318-b093-1ce305c3e4d8",
   "metadata": {},
   "outputs": [],
   "source": [
    "#basic\n",
    "import numpy as np\n",
    "import os\n",
    "import pandas as pd\n",
    "import matplotlib.pyplot as plt\n",
    "\n",
    "#dataset/dataloader stuff\n",
    "import torch\n",
    "from torch.utils.data import Dataset\n",
    "from torch.utils.data import DataLoader\n",
    "from torchvision.io import read_image\n",
    "import torchvision.transforms as transforms \n",
    "from torchvision.io import ImageReadMode\n",
    "\n",
    "#network stuff\n",
    "import torch.nn as nn\n",
    "import torch.nn.functional as F\n",
    "import torch.optim as optim"
   ]
  },
  {
   "cell_type": "code",
   "execution_count": 2,
   "id": "01ccbd1e-61d9-43f3-aedb-d5cc8709d06e",
   "metadata": {},
   "outputs": [
    {
     "data": {
      "text/plain": [
       "'cpu'"
      ]
     },
     "execution_count": 2,
     "metadata": {},
     "output_type": "execute_result"
    }
   ],
   "source": [
    "#pointless now\n",
    "#datasets dont need gpus to function but usually on top\n",
    "DEVICE = 'cuda' if torch.cuda.is_available() else 'cpu'\n",
    "RANDOM_SEED = 42\n",
    "DEVICE"
   ]
  },
  {
   "cell_type": "code",
   "execution_count": 3,
   "id": "e6c0cf9e-bf5f-495b-a7b5-185217714652",
   "metadata": {},
   "outputs": [],
   "source": [
    "class LeBirbs(Dataset):\n",
    "    def __init__(self, annotations_file, img_dir, transform=None, target_transform=None):\n",
    "        self.img_labels = pd.read_csv(annotations_file)\n",
    "        self.image_dir = img_dir\n",
    "        self.transform = transform\n",
    "        self.target_transform = target_transform\n",
    "\n",
    "    def __len__(self):\n",
    "        return len(self.img_labels)\n",
    "\n",
    "    def __getitem__(self, idx):\n",
    "        img_path = self.img_labels.iloc[idx]['image_path']\n",
    "        img_path = img_path[1:]\n",
    "        img_path = os.path.join(self.image_dir,img_path)\n",
    "        image = read_image(img_path, mode = ImageReadMode.RGB)\n",
    "        image = image.to(torch.float)\n",
    "        label = self.img_labels.iloc[idx]['label']\n",
    "        label = torch.tensor(label)\n",
    "        \n",
    "        if self.transform:\n",
    "            transform = transforms.transforms.CenterCrop(250)\n",
    "            image = transform(image)\n",
    "        if self.target_transform:\n",
    "            label = self.target_transform(label)\n",
    "        return image, label"
   ]
  },
  {
   "cell_type": "code",
   "execution_count": 5,
   "id": "0fcadcc7-8d5f-42e9-af0e-66b2ad683475",
   "metadata": {},
   "outputs": [],
   "source": [
    "#initiate the dataset object\n",
    "train_dataset = LeBirbs('train_images.csv','train_images',True,None)\n",
    "test_dataset = LeBirbs('test_images_path.csv','test_images',True,None)\n",
    "train_dataloader = DataLoader(train_dataset,batch_size=64,shuffle=True)\n",
    "test_dataloader = DataLoader(test_dataset,batch_size=64,shuffle=False)"
   ]
  },
  {
   "cell_type": "code",
   "execution_count": 7,
   "id": "ce35890c-9404-4c9a-87d5-6c7c43d4f937",
   "metadata": {},
   "outputs": [],
   "source": [
    "#implementation without atributes\n",
    "class Net(nn.Module):\n",
    "    def __init__(self):\n",
    "        super().__init__()\n",
    "        self.conv1 = nn.Conv2d(3, 6, 5)\n",
    "        self.pool = nn.MaxPool2d(2, 2)\n",
    "        self.conv2 = nn.Conv2d(6, 16, 5)\n",
    "        self.fc1 = nn.Linear(55696,7000)\n",
    "        self.fc2 = nn.Linear(7000, 1000)\n",
    "        self.fc3 = nn.Linear(1000, 201)\n",
    "\n",
    "    def forward(self, x):\n",
    "        x = self.pool(F.relu(self.conv1(x)))\n",
    "        x = self.pool(F.relu(self.conv2(x)))\n",
    "        x = torch.flatten(x, 1) # flatten all dimensions except batch\n",
    "        x = F.relu(self.fc1(x))\n",
    "        x = F.relu(self.fc2(x))\n",
    "        x = self.fc3(x)\n",
    "        return x\n",
    "\n",
    "\n",
    "net = Net()"
   ]
  },
  {
   "cell_type": "code",
   "execution_count": 10,
   "id": "af64dd58-7e19-4004-9c05-e2855e8fd253",
   "metadata": {},
   "outputs": [],
   "source": [
    "criterion = nn.CrossEntropyLoss()\n",
    "optimizer = optim.SGD(net.parameters(), lr=0.001, momentum=0.9)\n",
    "num_epochs = 25"
   ]
  },
  {
   "cell_type": "code",
   "execution_count": 11,
   "id": "74f49ff6-a27b-45cc-b53d-e348e8e391a1",
   "metadata": {
    "scrolled": true
   },
   "outputs": [
    {
     "name": "stdout",
     "output_type": "stream",
     "text": [
      "Finished Training\n",
      "CPU times: total: 23h 6min 57s\n",
      "Wall time: 5h 47min 17s\n"
     ]
    }
   ],
   "source": [
    "%%time\n",
    "for epoch in range(num_epochs):  # loop over the dataset multiple times\n",
    "\n",
    "    running_loss = 0.0\n",
    "    for i, data in enumerate(train_dataloader, 0):\n",
    "        # get the inputs; data is a list of [inputs, labels]\n",
    "        inputs, labels = data\n",
    "\n",
    "        # zero the parameter gradients\n",
    "        optimizer.zero_grad()\n",
    "\n",
    "        # forward + backward + optimize\n",
    "        outputs = net(inputs)\n",
    "        loss = criterion(outputs, labels)\n",
    "        loss.backward()\n",
    "        optimizer.step()\n",
    "\n",
    "        # print statistics\n",
    "        running_loss += loss.item()\n",
    "        if i % 2000 == 1999:    # print every 2000 mini-batches\n",
    "            print(f'[{epoch + 1}, {i + 1:5d}] loss: {running_loss / 2000:.3f}')\n",
    "            running_loss = 0.0\n",
    "\n",
    "print('Finished Training')"
   ]
  },
  {
   "cell_type": "code",
   "execution_count": null,
   "id": "a98af7c9-b09a-4346-8e05-151bc2f219d5",
   "metadata": {},
   "outputs": [],
   "source": [
    "#can save trained models, too large file size for github\n",
    "#PATH = 'Nets/DK_1_net.pth'\n",
    "#torch.save(net.state_dict(), PATH)"
   ]
  },
  {
   "cell_type": "code",
   "execution_count": 12,
   "id": "0a32764e-21f4-437e-86cc-2b91e82721df",
   "metadata": {},
   "outputs": [],
   "source": [
    "test_file = pd.read_csv('test_images_sample.csv')\n",
    "\n",
    "all_predictions = []\n",
    "with torch.no_grad():\n",
    "    for data in test_dataloader:\n",
    "        images, labels = data\n",
    "        outputs = net(images)\n",
    "        _, predicted = torch.max(outputs.data, 1)\n",
    "        predictions = torch.Tensor.tolist(predicted)\n",
    "        all_predictions.extend(predictions)"
   ]
  },
  {
   "cell_type": "code",
   "execution_count": 13,
   "id": "d5d63522-41fe-4c93-abca-7d9d0fcdfc3a",
   "metadata": {},
   "outputs": [],
   "source": [
    "test_file['label'] = all_predictions\n",
    "test_file.to_csv('test_images_predictions_dk.csv',index=False)"
   ]
  },
  {
   "cell_type": "code",
   "execution_count": null,
   "id": "af9e4bdd-bf49-43a7-ae0c-06c5de7a69b2",
   "metadata": {},
   "outputs": [],
   "source": []
  }
 ],
 "metadata": {
  "kernelspec": {
   "display_name": "Python 3 (ipykernel)",
   "language": "python",
   "name": "python3"
  },
  "language_info": {
   "codemirror_mode": {
    "name": "ipython",
    "version": 3
   },
   "file_extension": ".py",
   "mimetype": "text/x-python",
   "name": "python",
   "nbconvert_exporter": "python",
   "pygments_lexer": "ipython3",
   "version": "3.10.6"
  }
 },
 "nbformat": 4,
 "nbformat_minor": 5
}
