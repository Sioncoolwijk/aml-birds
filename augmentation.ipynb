{
 "cells": [
  {
   "cell_type": "code",
   "execution_count": 2,
   "metadata": {},
   "outputs": [],
   "source": [
    "from PIL import Image"
   ]
  },
  {
   "cell_type": "code",
   "execution_count": 3,
   "metadata": {},
   "outputs": [],
   "source": [
    "def flip_horizontal_and_save():\n",
    "\n",
    "  # open the original image\n",
    "  for image in range(1,3926+1):\n",
    "\n",
    "        original_img = Image.open(f\"train_images/train_images/{image}.jpg\")\n",
    "\n",
    "        # flip the original image horizontally\n",
    "        flipped_img = original_img.transpose(method=Image.Transpose.FLIP_LEFT_RIGHT)\n",
    "        flipped_img.save(f\"train_images/train_images/{image}_flipped.jpg\")\n",
    "\n",
    "        # close file\n",
    "        original_img.close()\n",
    "        flipped_img.close()\n",
    "\n",
    "  return\n",
    "\n",
    "\n",
    "\n",
    "# call flip function\n",
    "flip_horizontal_and_save()"
   ]
  },
  {
   "cell_type": "code",
   "execution_count": 15,
   "metadata": {},
   "outputs": [
    {
     "name": "stderr",
     "output_type": "stream",
     "text": [
      "/var/folders/n6/djsdqy9538s1spkqll8wvxlh0000gn/T/ipykernel_11761/74899157.py:16: DeprecationWarning: ANTIALIAS is deprecated and will be removed in Pillow 10 (2023-07-01). Use Resampling.LANCZOS instead.\n",
      "  zoomed_img = original_img.resize((new_width, new_height), Image.ANTIALIAS)\n"
     ]
    }
   ],
   "source": [
    "def zoom_and_save():\n",
    "\n",
    "    for image in range(1,3926+1):\n",
    "\n",
    "        # Open the image\n",
    "        original_img = Image.open(f\"train_images/train_images/{image}.jpg\")\n",
    "\n",
    "        # Get the size of the original image\n",
    "        original_width, original_height = original_img.size\n",
    "\n",
    "        # Calculate the new size after zooming in\n",
    "        new_width = int(original_width * 1.2)\n",
    "        new_height = int(original_height * 1.2)\n",
    "\n",
    "        # Resize the image to the new size\n",
    "        zoomed_img = original_img.resize((new_width, new_height), Image.ANTIALIAS)\n",
    "\n",
    "        # Calculate the crop box to maintain the original aspect ratio\n",
    "        crop_left = (new_width - original_width) // 2\n",
    "        crop_top = (new_height - original_height) // 2\n",
    "        crop_right = crop_left + original_width\n",
    "        crop_bottom = crop_top + original_height\n",
    "\n",
    "        # Crop the image\n",
    "        final_img = zoomed_img.crop((crop_left, crop_top, crop_right, crop_bottom))\n",
    "\n",
    "        # Save the image\n",
    "        final_img.save(f\"train_images/train_images/{image}_zoomed.jpg\")\n",
    "\n",
    "        # close file\n",
    "        original_img.close()\n",
    "        zoomed_img.close()\n",
    "        final_img.close()\n",
    "\n",
    "    return\n",
    "\n",
    "\n",
    "zoom_and_save()"
   ]
  },
  {
   "cell_type": "code",
   "execution_count": 16,
   "metadata": {},
   "outputs": [
    {
     "name": "stderr",
     "output_type": "stream",
     "text": [
      "/var/folders/n6/djsdqy9538s1spkqll8wvxlh0000gn/T/ipykernel_11761/2591276308.py:16: DeprecationWarning: ANTIALIAS is deprecated and will be removed in Pillow 10 (2023-07-01). Use Resampling.LANCZOS instead.\n",
      "  zoomed_img = original_img.resize((new_width, new_height), Image.ANTIALIAS)\n"
     ]
    }
   ],
   "source": [
    "def flip_zoom_and_save():\n",
    "\n",
    "    for image in range(1,3926+1):\n",
    "\n",
    "        # Open the image\n",
    "        original_img = Image.open(f\"train_images/train_images/{image}_flipped.jpg\")\n",
    "\n",
    "        # Get the size of the original image\n",
    "        original_width, original_height = original_img.size\n",
    "\n",
    "        # Calculate the new size after zooming in\n",
    "        new_width = int(original_width * 1.2)\n",
    "        new_height = int(original_height * 1.2)\n",
    "\n",
    "        # Resize the image to the new size\n",
    "        zoomed_img = original_img.resize((new_width, new_height), Image.ANTIALIAS)\n",
    "\n",
    "        # Calculate the crop box to maintain the original aspect ratio\n",
    "        crop_left = (new_width - original_width) // 2\n",
    "        crop_top = (new_height - original_height) // 2\n",
    "        crop_right = crop_left + original_width\n",
    "        crop_bottom = crop_top + original_height\n",
    "\n",
    "        # Crop the image\n",
    "        final_img = zoomed_img.crop((crop_left, crop_top, crop_right, crop_bottom))\n",
    "\n",
    "        # Save the image\n",
    "        final_img.save(f\"train_images/train_images/{image}_flipped_zoomed.jpg\")\n",
    "\n",
    "        # close file\n",
    "        original_img.close()\n",
    "        zoomed_img.close()\n",
    "        final_img.close()\n",
    "\n",
    "    return\n",
    "\n",
    "\n",
    "flip_zoom_and_save()"
   ]
  },
  {
   "cell_type": "code",
   "execution_count": 81,
   "metadata": {},
   "outputs": [
    {
     "name": "stderr",
     "output_type": "stream",
     "text": [
      "/var/folders/n6/djsdqy9538s1spkqll8wvxlh0000gn/T/ipykernel_11761/4127635423.py:16: DeprecationWarning: ANTIALIAS is deprecated and will be removed in Pillow 10 (2023-07-01). Use Resampling.LANCZOS instead.\n",
      "  zoomed_img = original_img.resize((new_width, new_height), Image.ANTIALIAS)\n"
     ]
    }
   ],
   "source": [
    "def expand_and_save():\n",
    "\n",
    "    for image in range(1,3926+1):\n",
    "\n",
    "        # Open the image\n",
    "        original_img = Image.open(f\"train_images/train_images/{image}.jpg\")\n",
    "\n",
    "        # Get the size of the original image\n",
    "        original_width, original_height = original_img.size\n",
    "\n",
    "        # Calculate the new size after zooming in\n",
    "        new_width = int(original_width * 1.3)\n",
    "        new_height = int(original_height * 1.3)\n",
    "\n",
    "        # Resize the image to the new size\n",
    "        zoomed_img = original_img.resize((new_width, new_height), Image.ANTIALIAS)\n",
    "\n",
    "        # Save the image\n",
    "        zoomed_img.save(f\"train_images/train_images/{image}_expanded.jpg\")\n",
    "\n",
    "        # close file\n",
    "        original_img.close()\n",
    "        zoomed_img.close()\n",
    "\n",
    "    return\n",
    "\n",
    "\n",
    "expand_and_save()"
   ]
  },
  {
   "cell_type": "code",
   "execution_count": 82,
   "metadata": {},
   "outputs": [
    {
     "name": "stderr",
     "output_type": "stream",
     "text": [
      "/var/folders/n6/djsdqy9538s1spkqll8wvxlh0000gn/T/ipykernel_11761/1655043596.py:16: DeprecationWarning: ANTIALIAS is deprecated and will be removed in Pillow 10 (2023-07-01). Use Resampling.LANCZOS instead.\n",
      "  zoomed_img = original_img.resize((new_width, new_height), Image.ANTIALIAS)\n"
     ]
    }
   ],
   "source": [
    "def expand_zoom_and_save():\n",
    "\n",
    "    for image in range(1,3926+1):\n",
    "\n",
    "        # Open the image\n",
    "        original_img = Image.open(f\"train_images/train_images/{image}_zoomed.jpg\")\n",
    "\n",
    "        # Get the size of the original image\n",
    "        original_width, original_height = original_img.size\n",
    "\n",
    "        # Calculate the new size after zooming in\n",
    "        new_width = int(original_width * 1.3)\n",
    "        new_height = int(original_height * 1.3)\n",
    "\n",
    "        # Resize the image to the new size\n",
    "        zoomed_img = original_img.resize((new_width, new_height), Image.ANTIALIAS)\n",
    "\n",
    "        # Save the image\n",
    "        zoomed_img.save(f\"train_images/train_images/{image}_expanded_and_zoomed.jpg\")\n",
    "\n",
    "        # close file\n",
    "        original_img.close()\n",
    "        zoomed_img.close()\n",
    "\n",
    "    return\n",
    "\n",
    "\n",
    "expand_zoom_and_save()"
   ]
  },
  {
   "cell_type": "code",
   "execution_count": 83,
   "metadata": {},
   "outputs": [
    {
     "name": "stderr",
     "output_type": "stream",
     "text": [
      "/var/folders/n6/djsdqy9538s1spkqll8wvxlh0000gn/T/ipykernel_11761/3404069040.py:16: DeprecationWarning: ANTIALIAS is deprecated and will be removed in Pillow 10 (2023-07-01). Use Resampling.LANCZOS instead.\n",
      "  zoomed_img = original_img.resize((new_width, new_height), Image.ANTIALIAS)\n"
     ]
    }
   ],
   "source": [
    "def expand_flip_and_save():\n",
    "\n",
    "    for image in range(1,3926+1):\n",
    "\n",
    "        # Open the image\n",
    "        original_img = Image.open(f\"train_images/train_images/{image}_flipped.jpg\")\n",
    "\n",
    "        # Get the size of the original image\n",
    "        original_width, original_height = original_img.size\n",
    "\n",
    "        # Calculate the new size after zooming in\n",
    "        new_width = int(original_width * 1.3)\n",
    "        new_height = int(original_height * 1.3)\n",
    "\n",
    "        # Resize the image to the new size\n",
    "        zoomed_img = original_img.resize((new_width, new_height), Image.ANTIALIAS)\n",
    "\n",
    "        # Save the image\n",
    "        zoomed_img.save(f\"train_images/train_images/{image}_expanded_and_flipped.jpg\")\n",
    "\n",
    "        # close file\n",
    "        original_img.close()\n",
    "        zoomed_img.close()\n",
    "\n",
    "    return\n",
    "\n",
    "\n",
    "expand_flip_and_save()"
   ]
  },
  {
   "cell_type": "code",
   "execution_count": 84,
   "metadata": {},
   "outputs": [
    {
     "name": "stderr",
     "output_type": "stream",
     "text": [
      "/var/folders/n6/djsdqy9538s1spkqll8wvxlh0000gn/T/ipykernel_11761/2191750984.py:16: DeprecationWarning: ANTIALIAS is deprecated and will be removed in Pillow 10 (2023-07-01). Use Resampling.LANCZOS instead.\n",
      "  zoomed_img = original_img.resize((new_width, new_height), Image.ANTIALIAS)\n"
     ]
    }
   ],
   "source": [
    "def expand_flip_zoom_and_save():\n",
    "\n",
    "    for image in range(1,3926+1):\n",
    "\n",
    "        # Open the image\n",
    "        original_img = Image.open(f\"train_images/train_images/{image}_flipped_zoomed.jpg\")\n",
    "\n",
    "        # Get the size of the original image\n",
    "        original_width, original_height = original_img.size\n",
    "\n",
    "        # Calculate the new size after zooming in\n",
    "        new_width = int(original_width * 1.3)\n",
    "        new_height = int(original_height * 1.3)\n",
    "\n",
    "        # Resize the image to the new size\n",
    "        zoomed_img = original_img.resize((new_width, new_height), Image.ANTIALIAS)\n",
    "\n",
    "        # Save the image\n",
    "        zoomed_img.save(f\"train_images/train_images/{image}_expanded_and_flipped_and_zoomed.jpg\")\n",
    "\n",
    "        # close file\n",
    "        original_img.close()\n",
    "        zoomed_img.close()\n",
    "\n",
    "    return\n",
    "\n",
    "\n",
    "expand_flip_zoom_and_save()"
   ]
  }
 ],
 "metadata": {
  "kernelspec": {
   "display_name": "Python 3 (ipykernel)",
   "language": "python",
   "name": "python3"
  },
  "language_info": {
   "codemirror_mode": {
    "name": "ipython",
    "version": 3
   },
   "file_extension": ".py",
   "mimetype": "text/x-python",
   "name": "python",
   "nbconvert_exporter": "python",
   "pygments_lexer": "ipython3",
   "version": "3.10.8"
  },
  "vscode": {
   "interpreter": {
    "hash": "aee8b7b246df8f9039afb4144a1f6fd8d2ca17a180786b69acc140d282b71a49"
   }
  }
 },
 "nbformat": 4,
 "nbformat_minor": 4
}
