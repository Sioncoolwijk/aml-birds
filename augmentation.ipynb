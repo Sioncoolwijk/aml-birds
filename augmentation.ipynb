{
 "cells": [
  {
   "cell_type": "code",
   "execution_count": 32,
   "metadata": {},
   "outputs": [],
   "source": [
    "from PIL import Image\n",
    "import csv\n",
    "import pandas as pd\n",
    "import os\n",
    "import numpy as np\n",
    "import tensorflow as tf"
   ]
  },
  {
   "cell_type": "code",
   "execution_count": 33,
   "metadata": {},
   "outputs": [
    {
     "ename": "FileNotFoundError",
     "evalue": "[Errno 2] No such file or directory: 'train_images/train_images/1.jpg'",
     "output_type": "error",
     "traceback": [
      "\u001b[0;31m---------------------------------------------------------------------------\u001b[0m",
      "\u001b[0;31mFileNotFoundError\u001b[0m                         Traceback (most recent call last)",
      "Cell \u001b[0;32mIn[33], line 21\u001b[0m\n\u001b[1;32m     16\u001b[0m   \u001b[38;5;28;01mreturn\u001b[39;00m\n\u001b[1;32m     20\u001b[0m \u001b[38;5;66;03m# call flip function\u001b[39;00m\n\u001b[0;32m---> 21\u001b[0m \u001b[43mflip_horizontal_and_save\u001b[49m\u001b[43m(\u001b[49m\u001b[43m)\u001b[49m\n",
      "Cell \u001b[0;32mIn[33], line 6\u001b[0m, in \u001b[0;36mflip_horizontal_and_save\u001b[0;34m()\u001b[0m\n\u001b[1;32m      1\u001b[0m \u001b[38;5;28;01mdef\u001b[39;00m \u001b[38;5;21mflip_horizontal_and_save\u001b[39m():\n\u001b[1;32m      2\u001b[0m \n\u001b[1;32m      3\u001b[0m   \u001b[38;5;66;03m# open the original image\u001b[39;00m\n\u001b[1;32m      4\u001b[0m   \u001b[38;5;28;01mfor\u001b[39;00m image \u001b[38;5;129;01min\u001b[39;00m \u001b[38;5;28mrange\u001b[39m(\u001b[38;5;241m1\u001b[39m,\u001b[38;5;241m3926\u001b[39m\u001b[38;5;241m+\u001b[39m\u001b[38;5;241m1\u001b[39m):\n\u001b[0;32m----> 6\u001b[0m         original_img \u001b[38;5;241m=\u001b[39m \u001b[43mImage\u001b[49m\u001b[38;5;241;43m.\u001b[39;49m\u001b[43mopen\u001b[49m\u001b[43m(\u001b[49m\u001b[38;5;124;43mf\u001b[39;49m\u001b[38;5;124;43m\"\u001b[39;49m\u001b[38;5;124;43mtrain_images/train_images/\u001b[39;49m\u001b[38;5;132;43;01m{\u001b[39;49;00m\u001b[43mimage\u001b[49m\u001b[38;5;132;43;01m}\u001b[39;49;00m\u001b[38;5;124;43m.jpg\u001b[39;49m\u001b[38;5;124;43m\"\u001b[39;49m\u001b[43m)\u001b[49m\n\u001b[1;32m      8\u001b[0m         \u001b[38;5;66;03m# flip the original image horizontally\u001b[39;00m\n\u001b[1;32m      9\u001b[0m         flipped_img \u001b[38;5;241m=\u001b[39m original_img\u001b[38;5;241m.\u001b[39mtranspose(method\u001b[38;5;241m=\u001b[39mImage\u001b[38;5;241m.\u001b[39mTranspose\u001b[38;5;241m.\u001b[39mFLIP_LEFT_RIGHT)\n",
      "File \u001b[0;32m/opt/homebrew/lib/python3.11/site-packages/PIL/Image.py:3236\u001b[0m, in \u001b[0;36mopen\u001b[0;34m(fp, mode, formats)\u001b[0m\n\u001b[1;32m   3233\u001b[0m     filename \u001b[38;5;241m=\u001b[39m fp\n\u001b[1;32m   3235\u001b[0m \u001b[38;5;28;01mif\u001b[39;00m filename:\n\u001b[0;32m-> 3236\u001b[0m     fp \u001b[38;5;241m=\u001b[39m \u001b[43mbuiltins\u001b[49m\u001b[38;5;241;43m.\u001b[39;49m\u001b[43mopen\u001b[49m\u001b[43m(\u001b[49m\u001b[43mfilename\u001b[49m\u001b[43m,\u001b[49m\u001b[43m \u001b[49m\u001b[38;5;124;43m\"\u001b[39;49m\u001b[38;5;124;43mrb\u001b[39;49m\u001b[38;5;124;43m\"\u001b[39;49m\u001b[43m)\u001b[49m\n\u001b[1;32m   3237\u001b[0m     exclusive_fp \u001b[38;5;241m=\u001b[39m \u001b[38;5;28;01mTrue\u001b[39;00m\n\u001b[1;32m   3239\u001b[0m \u001b[38;5;28;01mtry\u001b[39;00m:\n",
      "\u001b[0;31mFileNotFoundError\u001b[0m: [Errno 2] No such file or directory: 'train_images/train_images/1.jpg'"
     ]
    }
   ],
   "source": [
    "def flip_horizontal_and_save():\n",
    "\n",
    "  # open the original image\n",
    "  for image in range(1,3926+1):\n",
    "\n",
    "        original_img = Image.open(f\"train_images/train_images/{image}.jpg\")\n",
    "\n",
    "        # flip the original image horizontally\n",
    "        flipped_img = original_img.transpose(method=Image.Transpose.FLIP_LEFT_RIGHT)\n",
    "        flipped_img.save(f\"train_images/train_images/{image}_flipped.jpg\")\n",
    "\n",
    "        # close file\n",
    "        original_img.close()\n",
    "        flipped_img.close()\n",
    "\n",
    "  return\n",
    "\n",
    "\n",
    "\n",
    "# call flip function\n",
    "flip_horizontal_and_save()"
   ]
  },
  {
   "cell_type": "code",
   "execution_count": 15,
   "metadata": {},
   "outputs": [
    {
     "name": "stderr",
     "output_type": "stream",
     "text": [
      "/var/folders/n6/djsdqy9538s1spkqll8wvxlh0000gn/T/ipykernel_11761/74899157.py:16: DeprecationWarning: ANTIALIAS is deprecated and will be removed in Pillow 10 (2023-07-01). Use Resampling.LANCZOS instead.\n",
      "  zoomed_img = original_img.resize((new_width, new_height), Image.ANTIALIAS)\n"
     ]
    }
   ],
   "source": [
    "def zoom_and_save():\n",
    "\n",
    "    for image in range(1,3926+1):\n",
    "\n",
    "        # Open the image\n",
    "        original_img = Image.open(f\"train_images/train_images/{image}.jpg\")\n",
    "\n",
    "        # Get the size of the original image\n",
    "        original_width, original_height = original_img.size\n",
    "\n",
    "        # Calculate the new size after zooming in\n",
    "        new_width = int(original_width * 1.2)\n",
    "        new_height = int(original_height * 1.2)\n",
    "\n",
    "        # Resize the image to the new size\n",
    "        zoomed_img = original_img.resize((new_width, new_height), Image.ANTIALIAS)\n",
    "\n",
    "        # Calculate the crop box to maintain the original aspect ratio\n",
    "        crop_left = (new_width - original_width) // 2\n",
    "        crop_top = (new_height - original_height) // 2\n",
    "        crop_right = crop_left + original_width\n",
    "        crop_bottom = crop_top + original_height\n",
    "\n",
    "        # Crop the image\n",
    "        final_img = zoomed_img.crop((crop_left, crop_top, crop_right, crop_bottom))\n",
    "\n",
    "        # Save the image\n",
    "        final_img.save(f\"train_images/train_images/{image}_zoomed.jpg\")\n",
    "\n",
    "        # close file\n",
    "        original_img.close()\n",
    "        zoomed_img.close()\n",
    "        final_img.close()\n",
    "\n",
    "    return\n",
    "\n",
    "\n",
    "zoom_and_save()"
   ]
  },
  {
   "cell_type": "code",
   "execution_count": 16,
   "metadata": {},
   "outputs": [
    {
     "name": "stderr",
     "output_type": "stream",
     "text": [
      "/var/folders/n6/djsdqy9538s1spkqll8wvxlh0000gn/T/ipykernel_11761/2591276308.py:16: DeprecationWarning: ANTIALIAS is deprecated and will be removed in Pillow 10 (2023-07-01). Use Resampling.LANCZOS instead.\n",
      "  zoomed_img = original_img.resize((new_width, new_height), Image.ANTIALIAS)\n"
     ]
    }
   ],
   "source": [
    "def flip_zoom_and_save():\n",
    "\n",
    "    for image in range(1,3926+1):\n",
    "\n",
    "        # Open the image\n",
    "        original_img = Image.open(f\"train_images/train_images/{image}_flipped.jpg\")\n",
    "\n",
    "        # Get the size of the original image\n",
    "        original_width, original_height = original_img.size\n",
    "\n",
    "        # Calculate the new size after zooming in\n",
    "        new_width = int(original_width * 1.2)\n",
    "        new_height = int(original_height * 1.2)\n",
    "\n",
    "        # Resize the image to the new size\n",
    "        zoomed_img = original_img.resize((new_width, new_height), Image.ANTIALIAS)\n",
    "\n",
    "        # Calculate the crop box to maintain the original aspect ratio\n",
    "        crop_left = (new_width - original_width) // 2\n",
    "        crop_top = (new_height - original_height) // 2\n",
    "        crop_right = crop_left + original_width\n",
    "        crop_bottom = crop_top + original_height\n",
    "\n",
    "        # Crop the image\n",
    "        final_img = zoomed_img.crop((crop_left, crop_top, crop_right, crop_bottom))\n",
    "\n",
    "        # Save the image\n",
    "        final_img.save(f\"train_images/train_images/{image}_flipped_zoomed.jpg\")\n",
    "\n",
    "        # close file\n",
    "        original_img.close()\n",
    "        zoomed_img.close()\n",
    "        final_img.close()\n",
    "\n",
    "    return\n",
    "\n",
    "\n",
    "flip_zoom_and_save()"
   ]
  },
  {
   "cell_type": "code",
   "execution_count": 81,
   "metadata": {},
   "outputs": [
    {
     "name": "stderr",
     "output_type": "stream",
     "text": [
      "/var/folders/n6/djsdqy9538s1spkqll8wvxlh0000gn/T/ipykernel_11761/4127635423.py:16: DeprecationWarning: ANTIALIAS is deprecated and will be removed in Pillow 10 (2023-07-01). Use Resampling.LANCZOS instead.\n",
      "  zoomed_img = original_img.resize((new_width, new_height), Image.ANTIALIAS)\n"
     ]
    }
   ],
   "source": [
    "def expand_and_save():\n",
    "\n",
    "    for image in range(1,3926+1):\n",
    "\n",
    "        # Open the image\n",
    "        original_img = Image.open(f\"train_images/train_images/{image}.jpg\")\n",
    "\n",
    "        # Get the size of the original image\n",
    "        original_width, original_height = original_img.size\n",
    "\n",
    "        # Calculate the new size after zooming in\n",
    "        new_width = int(original_width * 1.3)\n",
    "        new_height = int(original_height * 1.3)\n",
    "\n",
    "        # Resize the image to the new size\n",
    "        zoomed_img = original_img.resize((new_width, new_height), Image.ANTIALIAS)\n",
    "\n",
    "        # Save the image\n",
    "        zoomed_img.save(f\"train_images/train_images/{image}_expanded.jpg\")\n",
    "\n",
    "        # close file\n",
    "        original_img.close()\n",
    "        zoomed_img.close()\n",
    "\n",
    "    return\n",
    "\n",
    "\n",
    "expand_and_save()"
   ]
  },
  {
   "cell_type": "code",
   "execution_count": 82,
   "metadata": {},
   "outputs": [
    {
     "name": "stderr",
     "output_type": "stream",
     "text": [
      "/var/folders/n6/djsdqy9538s1spkqll8wvxlh0000gn/T/ipykernel_11761/1655043596.py:16: DeprecationWarning: ANTIALIAS is deprecated and will be removed in Pillow 10 (2023-07-01). Use Resampling.LANCZOS instead.\n",
      "  zoomed_img = original_img.resize((new_width, new_height), Image.ANTIALIAS)\n"
     ]
    }
   ],
   "source": [
    "def expand_zoom_and_save():\n",
    "\n",
    "    for image in range(1,3926+1):\n",
    "\n",
    "        # Open the image\n",
    "        original_img = Image.open(f\"train_images/train_images/{image}_zoomed.jpg\")\n",
    "\n",
    "        # Get the size of the original image\n",
    "        original_width, original_height = original_img.size\n",
    "\n",
    "        # Calculate the new size after zooming in\n",
    "        new_width = int(original_width * 1.3)\n",
    "        new_height = int(original_height * 1.3)\n",
    "\n",
    "        # Resize the image to the new size\n",
    "        zoomed_img = original_img.resize((new_width, new_height), Image.ANTIALIAS)\n",
    "\n",
    "        # Save the image\n",
    "        zoomed_img.save(f\"train_images/train_images/{image}_expanded_and_zoomed.jpg\")\n",
    "\n",
    "        # close file\n",
    "        original_img.close()\n",
    "        zoomed_img.close()\n",
    "\n",
    "    return\n",
    "\n",
    "\n",
    "expand_zoom_and_save()"
   ]
  },
  {
   "cell_type": "code",
   "execution_count": 83,
   "metadata": {},
   "outputs": [
    {
     "name": "stderr",
     "output_type": "stream",
     "text": [
      "/var/folders/n6/djsdqy9538s1spkqll8wvxlh0000gn/T/ipykernel_11761/3404069040.py:16: DeprecationWarning: ANTIALIAS is deprecated and will be removed in Pillow 10 (2023-07-01). Use Resampling.LANCZOS instead.\n",
      "  zoomed_img = original_img.resize((new_width, new_height), Image.ANTIALIAS)\n"
     ]
    }
   ],
   "source": [
    "def expand_flip_and_save():\n",
    "\n",
    "    for image in range(1,3926+1):\n",
    "\n",
    "        # Open the image\n",
    "        original_img = Image.open(f\"train_images/train_images/{image}_flipped.jpg\")\n",
    "\n",
    "        # Get the size of the original image\n",
    "        original_width, original_height = original_img.size\n",
    "\n",
    "        # Calculate the new size after zooming in\n",
    "        new_width = int(original_width * 1.3)\n",
    "        new_height = int(original_height * 1.3)\n",
    "\n",
    "        # Resize the image to the new size\n",
    "        zoomed_img = original_img.resize((new_width, new_height), Image.ANTIALIAS)\n",
    "\n",
    "        # Save the image\n",
    "        zoomed_img.save(f\"train_images/train_images/{image}_expanded_and_flipped.jpg\")\n",
    "\n",
    "        # close file\n",
    "        original_img.close()\n",
    "        zoomed_img.close()\n",
    "\n",
    "    return\n",
    "\n",
    "\n",
    "expand_flip_and_save()"
   ]
  },
  {
   "cell_type": "code",
   "execution_count": 84,
   "metadata": {},
   "outputs": [
    {
     "name": "stderr",
     "output_type": "stream",
     "text": [
      "/var/folders/n6/djsdqy9538s1spkqll8wvxlh0000gn/T/ipykernel_11761/2191750984.py:16: DeprecationWarning: ANTIALIAS is deprecated and will be removed in Pillow 10 (2023-07-01). Use Resampling.LANCZOS instead.\n",
      "  zoomed_img = original_img.resize((new_width, new_height), Image.ANTIALIAS)\n"
     ]
    }
   ],
   "source": [
    "def expand_flip_zoom_and_save():\n",
    "\n",
    "    for image in range(1,3926+1):\n",
    "\n",
    "        # Open the image\n",
    "        original_img = Image.open(f\"train_images/train_images/{image}_flipped_zoomed.jpg\")\n",
    "\n",
    "        # Get the size of the original image\n",
    "        original_width, original_height = original_img.size\n",
    "\n",
    "        # Calculate the new size after zooming in\n",
    "        new_width = int(original_width * 1.3)\n",
    "        new_height = int(original_height * 1.3)\n",
    "\n",
    "        # Resize the image to the new size\n",
    "        zoomed_img = original_img.resize((new_width, new_height), Image.ANTIALIAS)\n",
    "\n",
    "        # Save the image\n",
    "        zoomed_img.save(f\"train_images/train_images/{image}_expanded_and_flipped_and_zoomed.jpg\")\n",
    "\n",
    "        # close file\n",
    "        original_img.close()\n",
    "        zoomed_img.close()\n",
    "\n",
    "    return\n",
    "\n",
    "\n",
    "expand_flip_zoom_and_save()"
   ]
  },
  {
   "cell_type": "code",
   "execution_count": 21,
   "metadata": {},
   "outputs": [],
   "source": [
    "def add_augmented_image_paths_to_csv():\n",
    "    train_data = pd.read_csv('train_images.csv')\n",
    "    \n",
    "    all_image_labels = train_data['label'].to_list()\n",
    "    \n",
    "    for image in range(1,3926+1):\n",
    "        # Create the dictionary (=row)\n",
    "        rows = [{'image_path': f'/train_images/{image}_flipped.jpg', 'label': all_image_labels[image-1]},\n",
    "                {'image_path': f'/train_images/{image}_zoomed.jpg', 'label': all_image_labels[image-1]},\n",
    "                {'image_path': f'/train_images/{image}_flipped_zoomed.jpg', 'label': all_image_labels[image-1]},\n",
    "                {'image_path': f'/train_images/{image}_expanded.jpg', 'label': all_image_labels[image-1]},\n",
    "                {'image_path': f'/train_images/{image}_expanded_and_zoomed.jpg', 'label': all_image_labels[image-1]},\n",
    "                {'image_path': f'/train_images/{image}_expanded_and_flipped.jpg', 'label': all_image_labels[image-1]},\n",
    "                {'image_path': f'/train_images/{image}_expanded_and_flipped_and_zoomed.jpg', 'label': all_image_labels[image-1]}]\n",
    "        # Open the CSV file in \"append\" mode\n",
    "        with open('train_images.csv', 'a', newline='') as f:\n",
    "            # Create a dictionary writer with the dict keys as column fieldnames\n",
    "            writer = csv.DictWriter(f, fieldnames=rows[0].keys())\n",
    "            # Append multiple rows to CSV\n",
    "            for row in rows:\n",
    "                writer.writerow(row)\n",
    "                \n",
    "            f.close()\n",
    "\n"
   ]
  },
  {
   "cell_type": "code",
   "execution_count": 22,
   "metadata": {},
   "outputs": [],
   "source": [
    "add_augmented_image_paths_to_csv()"
   ]
  },
  {
   "cell_type": "code",
   "execution_count": 38,
   "metadata": {},
   "outputs": [],
   "source": [
    "def pad_images_to_max_size_and_save(image_paths, output_folder):\n",
    "    \"\"\"\n",
    "    Pad images with zeros to the size of the largest image and save them to a folder.\n",
    "\n",
    "    Args:\n",
    "    - image_paths: List of image file paths\n",
    "    - output_folder: Path to the output folder to save the padded images\n",
    "\n",
    "    Returns:\n",
    "    - None\n",
    "    \"\"\"\n",
    "    # Ensure output folder exists, create if not\n",
    "    os.makedirs(output_folder, exist_ok=True)\n",
    "\n",
    "    # Load all images and find the maximum height and width\n",
    "    max_height = 0\n",
    "    max_width = 0\n",
    "    images = []\n",
    "    for image_path in image_paths:\n",
    "        img = Image.open(f'train_images/{image_path}')\n",
    "        images.append(img)\n",
    "        width, height = img.size\n",
    "        if width > max_width:\n",
    "            max_width = width\n",
    "        if height > max_height:\n",
    "            max_height = height\n",
    "        img.close()\n",
    "\n",
    "    # Pad images to the size of the largest image and save to output folder\n",
    "    for i, img in enumerate(images):\n",
    "        width, height = img.size\n",
    "        padding_height = max_height - height\n",
    "        padding_width = max_width - width\n",
    "\n",
    "        # Pad image with zeros using TensorFlow\n",
    "        img_array = tf.keras.preprocessing.image.img_to_array(img)\n",
    "        padded_img = tf.pad(img_array, [[0, padding_height], [0, padding_width], [0, 0]])\n",
    "\n",
    "        # Convert the padded image back to PIL format\n",
    "        padded_img_pil = tf.keras.preprocessing.image.array_to_img(padded_img.numpy().astype(np.uint8))\n",
    "\n",
    "        # Get the file name without extension\n",
    "        file_name, file_extension = os.path.splitext(image_paths[i])\n",
    "\n",
    "        # Save the padded image to the output folder\n",
    "        padded_img_pil.save(os.path.join(output_folder, f\"{file_name}_padded{file_extension}\"))"
   ]
  },
  {
   "cell_type": "code",
   "execution_count": 39,
   "metadata": {},
   "outputs": [
    {
     "name": "stdout",
     "output_type": "stream",
     "text": [
      "The history saving thread hit an unexpected error (OperationalError('unable to open database file')).History will not be written to the database."
     ]
    },
    {
     "name": "stderr",
     "output_type": "stream",
     "text": [
      "IOStream.flush timed out\n"
     ]
    },
    {
     "ename": "OSError",
     "evalue": "[Errno 24] Too many open files: 'train_images.csv'",
     "output_type": "error",
     "traceback": [
      "\u001b[0;31m---------------------------------------------------------------------------\u001b[0m",
      "\u001b[0;31mOSError\u001b[0m                                   Traceback (most recent call last)",
      "Cell \u001b[0;32mIn[39], line 1\u001b[0m\n\u001b[0;32m----> 1\u001b[0m train_data \u001b[38;5;241m=\u001b[39m \u001b[43mpd\u001b[49m\u001b[38;5;241;43m.\u001b[39;49m\u001b[43mread_csv\u001b[49m\u001b[43m(\u001b[49m\u001b[38;5;124;43m'\u001b[39;49m\u001b[38;5;124;43mtrain_images.csv\u001b[39;49m\u001b[38;5;124;43m'\u001b[39;49m\u001b[43m)\u001b[49m\n\u001b[1;32m      2\u001b[0m all_image_paths \u001b[38;5;241m=\u001b[39m train_data[\u001b[38;5;124m'\u001b[39m\u001b[38;5;124mimage_path\u001b[39m\u001b[38;5;124m'\u001b[39m]\u001b[38;5;241m.\u001b[39mto_list()\n\u001b[1;32m      4\u001b[0m pad_images_to_max_size_and_save(all_image_paths, \u001b[38;5;124m'\u001b[39m\u001b[38;5;124mtrain_padded_images\u001b[39m\u001b[38;5;124m'\u001b[39m)\n",
      "File \u001b[0;32m/opt/homebrew/lib/python3.11/site-packages/pandas/util/_decorators.py:211\u001b[0m, in \u001b[0;36mwrapper\u001b[0;34m(*args, **kwargs)\u001b[0m\n",
      "File \u001b[0;32m/opt/homebrew/lib/python3.11/site-packages/pandas/util/_decorators.py:331\u001b[0m, in \u001b[0;36mwrapper\u001b[0;34m(*args, **kwargs)\u001b[0m\n",
      "File \u001b[0;32m/opt/homebrew/lib/python3.11/site-packages/pandas/io/parsers/readers.py:950\u001b[0m, in \u001b[0;36mread_csv\u001b[0;34m(filepath_or_buffer, sep, delimiter, header, names, index_col, usecols, squeeze, prefix, mangle_dupe_cols, dtype, engine, converters, true_values, false_values, skipinitialspace, skiprows, skipfooter, nrows, na_values, keep_default_na, na_filter, verbose, skip_blank_lines, parse_dates, infer_datetime_format, keep_date_col, date_parser, dayfirst, cache_dates, iterator, chunksize, compression, thousands, decimal, lineterminator, quotechar, quoting, doublequote, escapechar, comment, encoding, encoding_errors, dialect, error_bad_lines, warn_bad_lines, on_bad_lines, delim_whitespace, low_memory, memory_map, float_precision, storage_options)\u001b[0m\n",
      "File \u001b[0;32m/opt/homebrew/lib/python3.11/site-packages/pandas/io/parsers/readers.py:605\u001b[0m, in \u001b[0;36m_read\u001b[0;34m(filepath_or_buffer, kwds)\u001b[0m\n",
      "File \u001b[0;32m/opt/homebrew/lib/python3.11/site-packages/pandas/io/parsers/readers.py:1442\u001b[0m, in \u001b[0;36m__init__\u001b[0;34m(self, f, engine, **kwds)\u001b[0m\n",
      "File \u001b[0;32m/opt/homebrew/lib/python3.11/site-packages/pandas/io/parsers/readers.py:1735\u001b[0m, in \u001b[0;36m_make_engine\u001b[0;34m(self, f, engine)\u001b[0m\n",
      "File \u001b[0;32m/opt/homebrew/lib/python3.11/site-packages/pandas/io/common.py:856\u001b[0m, in \u001b[0;36mget_handle\u001b[0;34m(path_or_buf, mode, encoding, compression, memory_map, is_text, errors, storage_options)\u001b[0m\n",
      "\u001b[0;31mOSError\u001b[0m: [Errno 24] Too many open files: 'train_images.csv'"
     ]
    }
   ],
   "source": [
    "train_data = pd.read_csv('train_images.csv')\n",
    "all_image_paths = train_data['image_path'].to_list()\n",
    "\n",
    "pad_images_to_max_size_and_save(all_image_paths, 'train_padded_images')"
   ]
  },
  {
   "cell_type": "code",
   "execution_count": null,
   "metadata": {},
   "outputs": [],
   "source": []
  }
 ],
 "metadata": {
  "kernelspec": {
   "display_name": "Python 3 (ipykernel)",
   "language": "python",
   "name": "python3"
  },
  "language_info": {
   "codemirror_mode": {
    "name": "ipython",
    "version": 3
   },
   "file_extension": ".py",
   "mimetype": "text/x-python",
   "name": "python",
   "nbconvert_exporter": "python",
   "pygments_lexer": "ipython3",
   "version": "3.11.6"
  },
  "vscode": {
   "interpreter": {
    "hash": "aee8b7b246df8f9039afb4144a1f6fd8d2ca17a180786b69acc140d282b71a49"
   }
  }
 },
 "nbformat": 4,
 "nbformat_minor": 4
}
