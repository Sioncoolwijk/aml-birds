{
  "cells": [
    {
      "cell_type": "code",
      "execution_count": 1,
      "id": "1bef01bc-36fc-4318-b093-1ce305c3e4d8",
      "metadata": {
        "id": "1bef01bc-36fc-4318-b093-1ce305c3e4d8"
      },
      "outputs": [],
      "source": [
        "#basic\n",
        "import numpy as np\n",
        "import os\n",
        "import pandas as pd\n",
        "import matplotlib.pyplot as plt\n",
        "\n",
        "#dataset/dataloader stuff\n",
        "import torch\n",
        "from torch.utils.data import Dataset\n",
        "from torch.utils.data import DataLoader\n",
        "from torchvision.io import read_image\n",
        "import torchvision.transforms as transforms\n",
        "from torchvision.io import ImageReadMode\n",
        "\n",
        "#network stuff\n",
        "import torch.nn as nn\n",
        "import torch.nn.functional as F\n",
        "import torch.optim as optim"
      ]
    },
    {
      "cell_type": "code",
      "source": [
        "!git clone -b david https://github.com/Sioncoolwijk/aml-birds"
      ],
      "metadata": {
        "id": "TCGwzsyQxu-m",
        "outputId": "557fa363-ddfb-4cd8-b709-181d943d9add",
        "colab": {
          "base_uri": "https://localhost:8080/"
        }
      },
      "id": "TCGwzsyQxu-m",
      "execution_count": 10,
      "outputs": [
        {
          "output_type": "stream",
          "name": "stdout",
          "text": [
            "Cloning into 'aml-birds'...\n",
            "remote: Enumerating objects: 66915, done.\u001b[K\n",
            "remote: Counting objects: 100% (37/37), done.\u001b[K\n",
            "remote: Compressing objects: 100% (23/23), done.\u001b[K\n",
            "remote: Total 66915 (delta 24), reused 15 (delta 13), pack-reused 66878\u001b[K\n",
            "Receiving objects: 100% (66915/66915), 1.66 GiB | 31.63 MiB/s, done.\n",
            "Resolving deltas: 100% (40/40), done.\n",
            "Updating files: 100% (35422/35422), done.\n"
          ]
        }
      ]
    },
    {
      "cell_type": "code",
      "execution_count": 2,
      "id": "01ccbd1e-61d9-43f3-aedb-d5cc8709d06e",
      "metadata": {
        "id": "01ccbd1e-61d9-43f3-aedb-d5cc8709d06e",
        "outputId": "4ea1eadc-4833-4db9-892e-3e955885c874",
        "colab": {
          "base_uri": "https://localhost:8080/",
          "height": 35
        }
      },
      "outputs": [
        {
          "output_type": "execute_result",
          "data": {
            "text/plain": [
              "'cuda'"
            ],
            "application/vnd.google.colaboratory.intrinsic+json": {
              "type": "string"
            }
          },
          "metadata": {},
          "execution_count": 2
        }
      ],
      "source": [
        "#pointless now\n",
        "#datasets dont need gpus to function but usually on top\n",
        "DEVICE = 'cuda' if torch.cuda.is_available() else 'cpu'\n",
        "RANDOM_SEED = 42\n",
        "DEVICE"
      ]
    },
    {
      "cell_type": "code",
      "execution_count": 12,
      "id": "e6c0cf9e-bf5f-495b-a7b5-185217714652",
      "metadata": {
        "id": "e6c0cf9e-bf5f-495b-a7b5-185217714652"
      },
      "outputs": [],
      "source": [
        "class LeBirbs(Dataset):\n",
        "    def __init__(self, annotations_file, img_dir, transform=None, target_transform=None):\n",
        "        self.img_labels = pd.read_csv(annotations_file)\n",
        "        self.image_dir = img_dir\n",
        "        self.transform = transform\n",
        "        self.target_transform = target_transform\n",
        "\n",
        "    def __len__(self):\n",
        "        return len(self.img_labels)\n",
        "\n",
        "    def __getitem__(self, idx):\n",
        "        img_path = self.img_labels.iloc[idx]['image_path']\n",
        "        img_path = img_path[1:]\n",
        "        img_path = os.path.join(self.image_dir,img_path)\n",
        "        image = read_image(img_path, mode = ImageReadMode.RGB)\n",
        "        image = image.to(torch.float)\n",
        "        label = self.img_labels.iloc[idx]['label']\n",
        "        label = torch.tensor(label)\n",
        "\n",
        "        if self.transform:\n",
        "            transform = transforms.transforms.CenterCrop(250)\n",
        "            image = transform(image)\n",
        "        if self.target_transform:\n",
        "            label = self.target_transform(label)\n",
        "        return image, label"
      ]
    },
    {
      "cell_type": "code",
      "source": [
        "os.getcwd()"
      ],
      "metadata": {
        "id": "_zpyh0DXzgC_",
        "outputId": "bb2c1481-375c-46d0-9a6c-317c10553060",
        "colab": {
          "base_uri": "https://localhost:8080/",
          "height": 35
        }
      },
      "id": "_zpyh0DXzgC_",
      "execution_count": 16,
      "outputs": [
        {
          "output_type": "execute_result",
          "data": {
            "text/plain": [
              "'/content'"
            ],
            "application/vnd.google.colaboratory.intrinsic+json": {
              "type": "string"
            }
          },
          "metadata": {},
          "execution_count": 16
        }
      ]
    },
    {
      "cell_type": "code",
      "execution_count": 31,
      "id": "0fcadcc7-8d5f-42e9-af0e-66b2ad683475",
      "metadata": {
        "id": "0fcadcc7-8d5f-42e9-af0e-66b2ad683475"
      },
      "outputs": [],
      "source": [
        "#initiate the dataset object\n",
        "train_dataset = LeBirbs('aml-birds/train_images.csv','aml-birds/train_images',True,None)\n",
        "test_dataset = LeBirbs('aml-birds/test_images_path.csv','aml-birds/test_images',True,None)\n",
        "train_dataloader = DataLoader(train_dataset,batch_size=256,shuffle=True)\n",
        "test_dataloader = DataLoader(test_dataset,batch_size=256,shuffle=False)"
      ]
    },
    {
      "cell_type": "code",
      "execution_count": 36,
      "id": "ce35890c-9404-4c9a-87d5-6c7c43d4f937",
      "metadata": {
        "id": "ce35890c-9404-4c9a-87d5-6c7c43d4f937",
        "outputId": "2aafeef9-4090-4c6e-d72e-f4af4049b511",
        "colab": {
          "base_uri": "https://localhost:8080/"
        }
      },
      "outputs": [
        {
          "output_type": "execute_result",
          "data": {
            "text/plain": [
              "Net(\n",
              "  (conv1): Conv2d(3, 6, kernel_size=(5, 5), stride=(1, 1))\n",
              "  (pool): MaxPool2d(kernel_size=3, stride=3, padding=0, dilation=1, ceil_mode=False)\n",
              "  (conv2): Conv2d(6, 12, kernel_size=(5, 5), stride=(1, 1))\n",
              "  (conv3): Conv2d(12, 24, kernel_size=(5, 5), stride=(1, 1))\n",
              "  (fc1): Linear(in_features=1176, out_features=600, bias=True)\n",
              "  (fc2): Linear(in_features=600, out_features=400, bias=True)\n",
              "  (fc3): Linear(in_features=400, out_features=201, bias=True)\n",
              ")"
            ]
          },
          "metadata": {},
          "execution_count": 36
        }
      ],
      "source": [
        "#implementation without atributes\n",
        "class Net(nn.Module):\n",
        "    def __init__(self):\n",
        "        super().__init__()\n",
        "        self.conv1 = nn.Conv2d(3, 6, 5)\n",
        "        self.pool = nn.MaxPool2d(3, 3)\n",
        "        self.conv2 = nn.Conv2d(6, 12, 5)\n",
        "        self.conv3 = nn.Conv2d(12, 24, 5)\n",
        "        self.fc1 = nn.Linear(1176,600)\n",
        "        self.fc2 = nn.Linear(600, 400)\n",
        "        self.fc3 = nn.Linear(400, 201)\n",
        "\n",
        "    def forward(self, x):\n",
        "        x = self.pool(F.relu(self.conv1(x)))\n",
        "        x = self.pool(F.relu(self.conv2(x)))\n",
        "        x = self.pool(F.relu(self.conv3(x)))\n",
        "        x = torch.flatten(x, 1) # flatten all dimensions except batch\n",
        "        x = F.relu(self.fc1(x))\n",
        "        x = F.relu(self.fc2(x))\n",
        "        x = self.fc3(x)\n",
        "        return x\n",
        "\n",
        "\n",
        "net = Net()\n",
        "net.to(DEVICE)"
      ]
    },
    {
      "cell_type": "code",
      "execution_count": 37,
      "id": "af64dd58-7e19-4004-9c05-e2855e8fd253",
      "metadata": {
        "id": "af64dd58-7e19-4004-9c05-e2855e8fd253"
      },
      "outputs": [],
      "source": [
        "criterion = nn.CrossEntropyLoss()\n",
        "optimizer = optim.SGD(net.parameters(), lr=0.001, momentum=0.9)\n",
        "num_epochs = 50"
      ]
    },
    {
      "cell_type": "code",
      "execution_count": 39,
      "id": "74f49ff6-a27b-45cc-b53d-e348e8e391a1",
      "metadata": {
        "scrolled": true,
        "id": "74f49ff6-a27b-45cc-b53d-e348e8e391a1",
        "outputId": "f0c8b136-f331-4b2d-d653-74ec2aeb20fa",
        "colab": {
          "base_uri": "https://localhost:8080/"
        }
      },
      "outputs": [
        {
          "output_type": "stream",
          "name": "stdout",
          "text": [
            "0 649.256600856781\n",
            "1 629.399905204773\n",
            "2 579.19140625\n",
            "3 525.0791459083557\n",
            "4 471.5926480293274\n",
            "5 416.9112524986267\n",
            "6 353.41255593299866\n",
            "7 293.21342527866364\n",
            "8 227.9541915655136\n",
            "9 165.88461327552795\n",
            "10 120.37806403636932\n",
            "11 83.69715029001236\n",
            "12 59.985719949007034\n",
            "13 49.156539529562\n",
            "14 33.16792377829552\n",
            "15 27.504681885242462\n",
            "16 21.58987747132778\n",
            "17 20.509274311363697\n",
            "18 17.125190693885088\n",
            "19 13.692359331995249\n",
            "20 11.63356557302177\n",
            "21 9.30772091448307\n",
            "22 11.144518665969372\n",
            "23 7.776638574898243\n",
            "24 4.493235412985086\n",
            "25 5.920557617675513\n",
            "26 8.34520659595728\n",
            "27 6.54775760229677\n",
            "28 2.8523155555594712\n",
            "29 1.5777301623020321\n",
            "30 2.165990208624862\n",
            "31 1.374693696736358\n",
            "32 1.9110475837951526\n",
            "33 0.7575094288913533\n",
            "34 0.394997204784886\n",
            "35 0.05878596230468247\n",
            "36 0.03620086922455812\n",
            "37 0.022020999262167607\n",
            "38 0.018741902906185715\n",
            "39 0.016585022964136442\n",
            "40 0.014729070600878913\n",
            "41 0.013667295355844544\n",
            "42 0.012570939903525868\n",
            "43 0.011818445316748694\n",
            "44 0.011061149616580224\n",
            "45 0.010516602686038823\n",
            "46 0.009962805088434834\n",
            "47 0.009498528339463519\n",
            "48 0.009043632449902361\n",
            "49 0.008651912181449006\n",
            "Finished Training\n",
            "CPU times: user 1h 24min 29s, sys: 12min 41s, total: 1h 37min 10s\n",
            "Wall time: 1h 36min 4s\n"
          ]
        }
      ],
      "source": [
        "%%time\n",
        "for epoch in range(num_epochs):  # loop over the dataset multiple times\n",
        "\n",
        "    running_loss = 0.0\n",
        "    for i, data in enumerate(train_dataloader, 0):\n",
        "        # get the inputs; data is a list of [inputs, labels]\n",
        "        inputs, labels = data[0].to(DEVICE), data[1].to(DEVICE)\n",
        "\n",
        "        # zero the parameter gradients\n",
        "        optimizer.zero_grad()\n",
        "\n",
        "        # forward + backward + optimize\n",
        "        outputs = net(inputs)\n",
        "        loss = criterion(outputs, labels)\n",
        "        loss.backward()\n",
        "        optimizer.step()\n",
        "\n",
        "        # print statistics\n",
        "        running_loss += loss.item()\n",
        "    print(epoch,running_loss)\n",
        "\n",
        "print('Finished Training')"
      ]
    },
    {
      "cell_type": "code",
      "execution_count": null,
      "id": "a98af7c9-b09a-4346-8e05-151bc2f219d5",
      "metadata": {
        "id": "a98af7c9-b09a-4346-8e05-151bc2f219d5"
      },
      "outputs": [],
      "source": [
        "#can save trained models, too large file size for github\n",
        "#PATH = 'Nets/DK_1_net.pth'\n",
        "#torch.save(net.state_dict(), PATH)"
      ]
    },
    {
      "cell_type": "code",
      "source": [
        "from google.colab import drive\n",
        "drive.mount('/content/drive')"
      ],
      "metadata": {
        "id": "XARQTvZZVJjJ"
      },
      "id": "XARQTvZZVJjJ",
      "execution_count": null,
      "outputs": []
    },
    {
      "cell_type": "code",
      "execution_count": 40,
      "id": "0a32764e-21f4-437e-86cc-2b91e82721df",
      "metadata": {
        "id": "0a32764e-21f4-437e-86cc-2b91e82721df"
      },
      "outputs": [],
      "source": [
        "test_file = pd.read_csv('aml-birds/test_images_sample.csv')\n",
        "\n",
        "all_predictions = []\n",
        "with torch.no_grad():\n",
        "    for data in test_dataloader:\n",
        "        inputs, labels = data[0].to(DEVICE), data[1].to(DEVICE)\n",
        "        outputs = net(inputs)\n",
        "        _, predicted = torch.max(outputs.data, 1)\n",
        "        predictions = torch.Tensor.tolist(predicted)\n",
        "        all_predictions.extend(predictions)"
      ]
    },
    {
      "cell_type": "code",
      "execution_count": 41,
      "id": "d5d63522-41fe-4c93-abca-7d9d0fcdfc3a",
      "metadata": {
        "id": "d5d63522-41fe-4c93-abca-7d9d0fcdfc3a"
      },
      "outputs": [],
      "source": [
        "test_file['label'] = all_predictions\n",
        "test_file.to_csv('aml-birds/test_images_predictions_dk2.csv',index=False)"
      ]
    },
    {
      "cell_type": "code",
      "execution_count": null,
      "id": "af9e4bdd-bf49-43a7-ae0c-06c5de7a69b2",
      "metadata": {
        "id": "af9e4bdd-bf49-43a7-ae0c-06c5de7a69b2"
      },
      "outputs": [],
      "source": []
    }
  ],
  "metadata": {
    "kernelspec": {
      "display_name": "Python 3",
      "name": "python3"
    },
    "language_info": {
      "codemirror_mode": {
        "name": "ipython",
        "version": 3
      },
      "file_extension": ".py",
      "mimetype": "text/x-python",
      "name": "python",
      "nbconvert_exporter": "python",
      "pygments_lexer": "ipython3",
      "version": "3.10.6"
    },
    "colab": {
      "provenance": [],
      "gpuType": "T4"
    },
    "accelerator": "GPU"
  },
  "nbformat": 4,
  "nbformat_minor": 5
}