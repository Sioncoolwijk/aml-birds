{
 "cells": [
  {
   "cell_type": "code",
   "execution_count": null,
   "metadata": {},
   "outputs": [],
   "source": [
    "from PIL import Image\n",
    "import os\n",
    "import tensorflow as tf"
   ]
  },
  {
   "cell_type": "code",
   "execution_count": 4,
   "metadata": {},
   "outputs": [
    {
     "name": "stderr",
     "output_type": "stream",
     "text": [
      "/var/folders/n6/djsdqy9538s1spkqll8wvxlh0000gn/T/ipykernel_7731/1084307040.py:9: DeprecationWarning: FLIP_LEFT_RIGHT is deprecated and will be removed in Pillow 10 (2023-07-01). Use Transpose.FLIP_LEFT_RIGHT instead.\n",
      "  flipped_img = original_img.transpose(method=Image.FLIP_LEFT_RIGHT)\n"
     ]
    }
   ],
   "source": [
    "def flip_horizontal_and_save():\n",
    "\n",
    "  # open the original image\n",
    "  for image in range(1,3926+1):\n",
    "\n",
    "        original_img = Image.open(f\"train_images/train_images/{image}.jpg\")\n",
    "\n",
    "        # flip the original image horizontally\n",
    "        flipped_img = original_img.transpose(method=Image.Transpose.FLIP_LEFT_RIGHT)\n",
    "        flipped_img.save(f\"train_images/train_images/{image}_flipped.jpg\")\n",
    "\n",
    "        # close file\n",
    "        original_img.close()\n",
    "        flipped_img.close()\n",
    "\n",
    "\n",
    "\n",
    "# call flip function\n",
    "flip_horizontal_and_save()"
   ]
  },
  {
   "cell_type": "code",
   "execution_count": null,
   "metadata": {},
   "outputs": [],
   "source": [
    "import tensorflow as tf\n",
    "from PIL import Image\n",
    "\n",
    "def load_and_preprocess_image(image_path):\n",
    "    img = tf.io.read_file(image_path)\n",
    "    img = tf.image.decode_jpeg(img, channels=3)\n",
    "    img = tf.image.resize(img, (300, 300))\n",
    "    img = tf.expand_dims(img, axis=0)\n",
    "    img = tf.image.convert_image_dtype(img, dtype=tf.uint8)\n",
    "    return img\n",
    "\n",
    "def get_bounding_box(image_path):\n",
    "    # Load the pre-trained model\n",
    "    model = tf.saved_model.load(\"path/to/ssd_mobilenet_v2_coco/saved_model\")\n",
    "\n",
    "    # Load and preprocess the image\n",
    "    image = load_and_preprocess_image(image_path)\n",
    "\n",
    "    # Make predictions and extract bounding boxes\n",
    "    detections = model(image)\n",
    "    boxes = detections['detection_boxes'][0].numpy()\n",
    "\n",
    "    # Assuming the first detection corresponds to the bird\n",
    "    bird_box = boxes[0]\n",
    "\n",
    "    return bird_box\n",
    "\n",
    "def zoom_into_bird_and_save():\n",
    "    for image in range(1, 3926 + 1):\n",
    "        # Open the original image\n",
    "        original_img = Image.open(f\"train_images/train_images/{image}.jpg\")\n",
    "\n",
    "        # Get the bounding box of the bird\n",
    "        bird_box = get_bounding_box(f\"train_images/train_images/{image}.jpg\")\n",
    "\n",
    "        # Convert relative coordinates to absolute coordinates\n",
    "        img_width, img_height = original_img.size\n",
    "        left, top, right, bottom = (\n",
    "            int(bird_box[1] * img_width),\n",
    "            int(bird_box[0] * img_height),\n",
    "            int(bird_box[3] * img_width),\n",
    "            int(bird_box[2] * img_height),\n",
    "        )\n",
    "\n",
    "        # Crop the image to zoom into the bird\n",
    "        zoomed_img = original_img.crop((left, top, right, bottom))\n",
    "        zoomed_img.save(f\"train_images/train_images/{image}_zoomed.jpg\")\n",
    "\n",
    "        # Close the original image file\n",
    "        original_img.close()\n",
    "        zoomed_img.close()\n",
    "\n",
    "# Call the zoom function\n",
    "zoom_into_bird_and_save()\n"
   ]
  }
 ],
 "metadata": {
  "kernelspec": {
   "display_name": "Python 3 (ipykernel)",
   "language": "python",
   "name": "python3"
  },
  "language_info": {
   "codemirror_mode": {
    "name": "ipython",
    "version": 3
   },
   "file_extension": ".py",
   "mimetype": "text/x-python",
   "name": "python",
   "nbconvert_exporter": "python",
   "pygments_lexer": "ipython3",
   "version": "3.9.13"
  },
  "vscode": {
   "interpreter": {
    "hash": "aee8b7b246df8f9039afb4144a1f6fd8d2ca17a180786b69acc140d282b71a49"
   }
  }
 },
 "nbformat": 4,
 "nbformat_minor": 4
}
